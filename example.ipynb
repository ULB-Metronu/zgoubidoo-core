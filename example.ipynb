{
 "cells": [
  {
   "cell_type": "markdown",
   "metadata": {
    "pycharm": {
     "name": "#%% md\n"
    }
   },
   "source": [
    "# Example of usage of the zgoubidoo-core librairy"
   ]
  },
  {
   "cell_type": "code",
   "execution_count": null,
   "metadata": {
    "pycharm": {
     "name": "#%%\n"
    }
   },
   "outputs": [],
   "source": [
    "from zgoubidoo_core.physics import coordinates, particles\n",
    "from zgoubidoo_core.physics.fields.fields_init import b_partials_unif_z, init_field\n",
    "from zgoubidoo_core.display.results import plot\n",
    "from zgoubidoo_core import tracker\n",
    "\n",
    "import numpy as np\n",
    "from numba import jit"
   ]
  },
  {
   "cell_type": "markdown",
   "metadata": {
    "pycharm": {
     "name": "#%% md\n"
    }
   },
   "source": [
    "First we define the particles we want to work with"
   ]
  },
  {
   "cell_type": "code",
   "execution_count": null,
   "metadata": {
    "pycharm": {
     "name": "#%%\n"
    }
   },
   "outputs": [],
   "source": [
    "c1 = coordinates.Coordinates() # 0,0,0, u along x axis\n",
    "c2 = coordinates.Coordinates(y=0, t=0, z=0, p=0.1, x=0, d=1.)  # Velocity in the xz plane\n",
    "\n",
    "p1 = particles.Particle(c1, rigidity=2.19)  # 230MeV proton\n",
    "p2 = particles.Particle(c2, rigidity=2.19)"
   ]
  },
  {
   "cell_type": "markdown",
   "metadata": {
    "pycharm": {
     "name": "#%% md\n"
    }
   },
   "source": [
    "Now we define the fields in which the particles are moving"
   ]
  },
  {
   "cell_type": "code",
   "execution_count": null,
   "metadata": {
    "pycharm": {
     "name": "#%%\n"
    }
   },
   "outputs": [],
   "source": [
    "@jit(nopython=True)\n",
    "def b1(r: np.ndarray) -> tuple:\n",
    "    res = b_partials_unif_z(r, 2.3)  # 2.3T uniform magnetic field along the z axis\n",
    "    return res\n",
    "\n",
    "@jit(nopython=True)\n",
    "def b2(r: np.ndarray) -> tuple:\n",
    "    partials = init_field()  # all 0 well shaped data structure for a field and partial derivs\n",
    "    partials[0][2] = r[2] + 2.3  # Bz = 2.3 + z\n",
    "    partials[1][2, 2] = 1        # (dB/dz)_z = 1\n",
    "    return partials\n",
    "\n",
    "@jit(nopython=True)\n",
    "def e(r: np.ndarray) -> tuple:\n",
    "    return init_field()    # e(r) = 0"
   ]
  },
  {
   "cell_type": "markdown",
   "metadata": {
    "pycharm": {
     "name": "#%% md\n"
    }
   },
   "source": [
    "Everything is set to start the integration process"
   ]
  },
  {
   "cell_type": "code",
   "execution_count": null,
   "metadata": {
    "pycharm": {
     "name": "#%%\n"
    }
   },
   "outputs": [],
   "source": [
    "max_step = 50000\n",
    "step = 10e-3\n",
    "\n",
    "res1 = tracker.integrate(p1, b1, e, max_step, step)\n",
    "res2 = tracker.integrate(p2, b2, e, max_step, step)"
   ]
  },
  {
   "cell_type": "code",
   "execution_count": null,
   "metadata": {
    "pycharm": {
     "name": "#%%\n"
    }
   },
   "outputs": [],
   "source": [
    "for i in range(5):\n",
    "    print('r1 :', res1[i][0])\n",
    "    print('r2 :', res2[i][0])"
   ]
  },
  {
   "cell_type": "markdown",
   "metadata": {
    "pycharm": {
     "name": "#%% md\n"
    }
   },
   "source": [
    "Temporary plot possibility (to be improved)"
   ]
  },
  {
   "cell_type": "code",
   "execution_count": null,
   "metadata": {
    "pycharm": {
     "name": "#%%\n"
    }
   },
   "outputs": [],
   "source": [
    "plot(res1)"
   ]
  },
  {
   "cell_type": "code",
   "execution_count": null,
   "metadata": {
    "pycharm": {
     "name": "#%%\n"
    }
   },
   "outputs": [],
   "source": [
    "plot(res2)"
   ]
  },
  {
   "cell_type": "code",
   "execution_count": null,
   "metadata": {
    "pycharm": {
     "name": "#%%\n"
    }
   },
   "outputs": [],
   "source": []
  }
 ],
 "metadata": {
  "kernelspec": {
   "display_name": "Python 3",
   "language": "python",
   "name": "python3"
  },
  "language_info": {
   "codemirror_mode": {
    "name": "ipython",
    "version": 2
   },
   "file_extension": ".py",
   "mimetype": "text/x-python",
   "name": "python",
   "nbconvert_exporter": "python",
   "pygments_lexer": "ipython2",
   "version": "2.7.6"
  }
 },
 "nbformat": 4,
 "nbformat_minor": 0
}
